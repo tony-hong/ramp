{
 "cells": [
  {
   "cell_type": "code",
   "execution_count": 99,
   "id": "d350071a-895b-4dd8-98c3-afdb977aad32",
   "metadata": {},
   "outputs": [],
   "source": [
    "import pandas as pd\n",
    "from datasets import Dataset\n",
    "from transformers import AutoTokenizer"
   ]
  },
  {
   "cell_type": "code",
   "execution_count": 71,
   "id": "9fc11f4d-2b17-4b01-b8ac-75d1ee11bb4a",
   "metadata": {},
   "outputs": [
    {
     "name": "stdout",
     "output_type": "stream",
     "text": [
      "1.5.3\n"
     ]
    }
   ],
   "source": [
    "print(pd.__version__)"
   ]
  },
  {
   "cell_type": "code",
   "execution_count": 72,
   "id": "075535dd-d3d7-4376-925c-ce197e3d8790",
   "metadata": {},
   "outputs": [
    {
     "data": {
      "text/plain": [
       "13"
      ]
     },
     "execution_count": 72,
     "metadata": {},
     "output_type": "execute_result"
    }
   ],
   "source": [
    "ord('\\r')"
   ]
  },
  {
   "cell_type": "code",
   "execution_count": 73,
   "id": "75567344-26e6-4ba3-942b-a28d01dc6d8c",
   "metadata": {},
   "outputs": [
    {
     "data": {
      "text/plain": [
       "10"
      ]
     },
     "execution_count": 73,
     "metadata": {},
     "output_type": "execute_result"
    }
   ],
   "source": [
    "ord('\\n')"
   ]
  },
  {
   "cell_type": "code",
   "execution_count": 74,
   "id": "51fab7f3-a465-4e29-a021-7282506ee807",
   "metadata": {},
   "outputs": [],
   "source": [
    "train_set = pd.read_csv(\"../../data/all_raw_train.csv\", sep='\\t')\n",
    "# val_set = pd.read_csv(\"../../data/all_raw_val.csv\", quoting=3, sep=)"
   ]
  },
  {
   "cell_type": "code",
   "execution_count": 75,
   "id": "67cf2320-a432-4ca4-bc8b-fb0407a1e189",
   "metadata": {},
   "outputs": [
    {
     "data": {
      "text/plain": [
       "480"
      ]
     },
     "execution_count": 75,
     "metadata": {},
     "output_type": "execute_result"
    }
   ],
   "source": [
    "len(train_set)"
   ]
  },
  {
   "cell_type": "code",
   "execution_count": 76,
   "id": "dfeb4a36-cdd5-4cc5-b27f-1d1b31e683c9",
   "metadata": {},
   "outputs": [],
   "source": [
    "\n",
    "train_set = train_set[train_set['summary'].notna()]\n",
    "train_set = train_set[train_set['source'].notna()]\n",
    "\n",
    "\n",
    "#Prase1\n",
    "# train_set = train_set.head(100)\n",
    "\n",
    "### convert to Huggingface dataset\n"
   ]
  },
  {
   "cell_type": "code",
   "execution_count": 77,
   "id": "584c7d0e-4df1-4c20-974a-3fc152738f88",
   "metadata": {},
   "outputs": [],
   "source": [
    "one_shot_source=\"{'status': [{'WindSpeed (m/s)': 0, 'DroneSpeed (m/s)': 5, 'PilotExperienced': True, 'Altitude (m)': 8, 'Temperature (celcius)': 12, 'Distance_from_remote_control (m)': 848, 'Battery_level': 80, 'Low_visibility': False, 'Normal_frame': False, 'weather': 'sunny', 'upside_down': True, 'good_motor_condition': False, 'going_backwards': False, 'indoor': False, 'waterproof drone?': False, 'flying over': 'ground', 'criticality': 'advisory', 'RiskOfPhysicalDamage': 'warning', 'RiskOfInternalDamage': False, 'RiskOfHumanDamage': False, 'LostConnection': False}], 'timestep': [{'name': 'flat hause', 'ID_obj': 1.0, 'Type': 'Building', 'Moving': False, 'InPath': False, 'Distance': 5.0, 'time_stamp': '0:02'}, {'name': 'tree 1', 'ID_obj': 2.0, 'Type': 'Tree', 'Moving': False, 'InPath': False, 'Distance': 2.0, 'time_stamp': '0:05'}]}\"\n",
    "one_shot_summary=\"Risk of physical damage! The drone has a damaged frame. [SEP]\\n(0:05) Risk of physical damage! There's a tree only 2m away. [SEP]\""
   ]
  },
  {
   "cell_type": "code",
   "execution_count": 78,
   "id": "e1a7b11c-6352-4827-b22f-ca39548152aa",
   "metadata": {},
   "outputs": [],
   "source": [
    "def prefix_one_shot(input_str, one_shot_input, one_shot_output):\n",
    "    return \"input: {one_shot_input}, output: {one_shot_output}\\n input:{input_str}, output:\".format(\n",
    "        one_shot_input=one_shot_input, one_shot_output=one_shot_output, input_str=input_str\n",
    "    )\n",
    "\n",
    "def prefix_one_shot_example(input_str):\n",
    "    return prefix_one_shot(input_str, one_shot_source, one_shot_summary)"
   ]
  },
  {
   "cell_type": "code",
   "execution_count": 79,
   "id": "97d46f3d-6955-462a-96f6-529ddd57910d",
   "metadata": {},
   "outputs": [
    {
     "name": "stdout",
     "output_type": "stream",
     "text": [
      "<class 'pandas.core.series.Series'> 464\n"
     ]
    }
   ],
   "source": [
    "\n",
    "print(type(train_set['source']), len(train_set['source']))\n",
    "train_set['source']=train_set['source'].apply(prefix_one_shot_example)"
   ]
  },
  {
   "cell_type": "code",
   "execution_count": 80,
   "id": "dbf0df10-5516-4b57-aa93-f42169cfa721",
   "metadata": {},
   "outputs": [
    {
     "data": {
      "text/html": [
       "<div>\n",
       "<style scoped>\n",
       "    .dataframe tbody tr th:only-of-type {\n",
       "        vertical-align: middle;\n",
       "    }\n",
       "\n",
       "    .dataframe tbody tr th {\n",
       "        vertical-align: top;\n",
       "    }\n",
       "\n",
       "    .dataframe thead th {\n",
       "        text-align: right;\n",
       "    }\n",
       "</style>\n",
       "<table border=\"1\" class=\"dataframe\">\n",
       "  <thead>\n",
       "    <tr style=\"text-align: right;\">\n",
       "      <th></th>\n",
       "      <th>Unnamed: 0</th>\n",
       "      <th>link</th>\n",
       "      <th>summary</th>\n",
       "      <th>templates</th>\n",
       "      <th>related_status</th>\n",
       "      <th>related_timestep</th>\n",
       "      <th>related_sensor_data</th>\n",
       "      <th>status</th>\n",
       "      <th>timestep</th>\n",
       "      <th>source</th>\n",
       "    </tr>\n",
       "  </thead>\n",
       "  <tbody>\n",
       "    <tr>\n",
       "      <th>0</th>\n",
       "      <td>522</td>\n",
       "      <td>https://drive.google.com/file/d/1i1wLRDvCMjMi2...</td>\n",
       "      <td>Risk of physical damage! The drone has a damag...</td>\n",
       "      <td>The drone is flying with a damaged frame.</td>\n",
       "      <td>{\"Normal_frame\": false}</td>\n",
       "      <td>NaN</td>\n",
       "      <td>{\"Normal_frame\": false}</td>\n",
       "      <td>{\"WindSpeed (m/s)\": 0, \"DroneSpeed (m/s)\": 5, ...</td>\n",
       "      <td>[{\"name\": \"flat hause\", \"ID_obj\": 1.0, \"Type\":...</td>\n",
       "      <td>input: {'status': [{'WindSpeed (m/s)': 0, 'Dro...</td>\n",
       "    </tr>\n",
       "    <tr>\n",
       "      <th>1</th>\n",
       "      <td>242</td>\n",
       "      <td>https://drive.google.com/file/d/1tIS5UEh-10N-n...</td>\n",
       "      <td>Risk of physical damage! The drone has an empt...</td>\n",
       "      <td>The flying drone is runing out of battery with...</td>\n",
       "      <td>{\"Battery_level\": 10}</td>\n",
       "      <td>{\"time_stamp\": \"0:00\", \"name\": \"tube\", \"Distan...</td>\n",
       "      <td>{\"Battery_level\": 10}{\"time_stamp\": \"0:00\", \"n...</td>\n",
       "      <td>{\"WindSpeed (m/s)\": 0, \"DroneSpeed (m/s)\": 7, ...</td>\n",
       "      <td>[{\"name\": \"tube\", \"ID_obj\": 1, \"Type\": \"Object...</td>\n",
       "      <td>input: {'status': [{'WindSpeed (m/s)': 0, 'Dro...</td>\n",
       "    </tr>\n",
       "    <tr>\n",
       "      <th>2</th>\n",
       "      <td>59</td>\n",
       "      <td>https://drive.google.com/file/d/1lT5SbBlJmbX4S...</td>\n",
       "      <td>(00:00) Risk of physical damage! The drone is ...</td>\n",
       "      <td>(0:00) The drone is facing the risk of physica...</td>\n",
       "      <td>NaN</td>\n",
       "      <td>{\"time_stamp\": \"0:00\", \"name\": \"Bird1\", \"Dista...</td>\n",
       "      <td>{\"time_stamp\": \"0:00\", \"name\": \"Bird1\", \"Dista...</td>\n",
       "      <td>{\"WindSpeed (m/s)\": 10, \"DroneSpeed (m/s)\": 20...</td>\n",
       "      <td>[{\"name\": \"Bird1\", \"ID_obj\": 1.0, \"Type\": \"Bir...</td>\n",
       "      <td>input: {'status': [{'WindSpeed (m/s)': 0, 'Dro...</td>\n",
       "    </tr>\n",
       "    <tr>\n",
       "      <th>3</th>\n",
       "      <td>593</td>\n",
       "      <td>https://drive.google.com/file/d/11uw7RK2ZdRP7P...</td>\n",
       "      <td>Risk of physical and internal damage! The dron...</td>\n",
       "      <td>The drone is flying with a damaged frame.The d...</td>\n",
       "      <td>{\"Normal_frame\": false}{\"waterproof drone?\": f...</td>\n",
       "      <td>{\"time_stamp\": \"0:09\", \"name\": \"steel arche of...</td>\n",
       "      <td>{\"Normal_frame\": false}{\"waterproof drone?\": f...</td>\n",
       "      <td>{\"WindSpeed (m/s)\": 15, \"DroneSpeed (m/s)\": 10...</td>\n",
       "      <td>[{\"name\": \"steel arche of the bridge\", \"ID_obj...</td>\n",
       "      <td>input: {'status': [{'WindSpeed (m/s)': 0, 'Dro...</td>\n",
       "    </tr>\n",
       "    <tr>\n",
       "      <th>4</th>\n",
       "      <td>431</td>\n",
       "      <td>https://drive.google.com/file/d/1AhEBbxeplwqk7...</td>\n",
       "      <td>Risk of physical damage! The drone is flying w...</td>\n",
       "      <td>The flying drone is runing out of battery with...</td>\n",
       "      <td>{\"Battery_level\": 20}{\"Normal_frame\": false}{\"...</td>\n",
       "      <td>{\"time_stamp\": \"0:02\", \"name\": \"yellow tape\", ...</td>\n",
       "      <td>{\"Battery_level\": 20}{\"Normal_frame\": false}{\"...</td>\n",
       "      <td>{\"WindSpeed (m/s)\": 0, \"DroneSpeed (m/s)\": 10,...</td>\n",
       "      <td>[{\"name\": \"tree 1\", \"ID_obj\": 1.0, \"Type\": \"Tr...</td>\n",
       "      <td>input: {'status': [{'WindSpeed (m/s)': 0, 'Dro...</td>\n",
       "    </tr>\n",
       "    <tr>\n",
       "      <th>...</th>\n",
       "      <td>...</td>\n",
       "      <td>...</td>\n",
       "      <td>...</td>\n",
       "      <td>...</td>\n",
       "      <td>...</td>\n",
       "      <td>...</td>\n",
       "      <td>...</td>\n",
       "      <td>...</td>\n",
       "      <td>...</td>\n",
       "      <td>...</td>\n",
       "    </tr>\n",
       "    <tr>\n",
       "      <th>475</th>\n",
       "      <td>87</td>\n",
       "      <td>https://drive.google.com/file/d/1Kd5BwImJ4mzDb...</td>\n",
       "      <td>Risk of internal damage! The weather is overca...</td>\n",
       "      <td>The drone is facing a risk of internal damage ...</td>\n",
       "      <td>{\"waterproof drone?\": false, \"weather\": \"gloomy\"}</td>\n",
       "      <td>NaN</td>\n",
       "      <td>{\"waterproof drone?\": false, \"weather\": \"gloomy\"}</td>\n",
       "      <td>{\"WindSpeed (m/s)\": 1, \"DroneSpeed (m/s)\": 0, ...</td>\n",
       "      <td>[{\"name\": \"Bird1\", \"ID_obj\": 1.0, \"Type\": \"Bir...</td>\n",
       "      <td>input: {'status': [{'WindSpeed (m/s)': 0, 'Dro...</td>\n",
       "    </tr>\n",
       "    <tr>\n",
       "      <th>476</th>\n",
       "      <td>424</td>\n",
       "      <td>https://drive.google.com/file/d/193jyGP_awcQ4P...</td>\n",
       "      <td>Risk of physical damage! The drone has an empt...</td>\n",
       "      <td>The flying drone is runing out of battery with...</td>\n",
       "      <td>{\"Battery_level\": 0}</td>\n",
       "      <td>{\"time_stamp\": \"0:04\", \"name\": \"building 1\", \"...</td>\n",
       "      <td>{\"Battery_level\": 0}{\"time_stamp\": \"0:04\", \"na...</td>\n",
       "      <td>{\"WindSpeed (m/s)\": 0, \"DroneSpeed (m/s)\": 7, ...</td>\n",
       "      <td>[{\"name\": \"building 1\", \"ID_obj\": 1.0, \"Type\":...</td>\n",
       "      <td>input: {'status': [{'WindSpeed (m/s)': 0, 'Dro...</td>\n",
       "    </tr>\n",
       "    <tr>\n",
       "      <th>477</th>\n",
       "      <td>544</td>\n",
       "      <td>https://drive.google.com/file/d/1jbD1EUHoELfuv...</td>\n",
       "      <td>Risk of physical damage! The drone has a damag...</td>\n",
       "      <td>The drone is flying with a damaged frame.</td>\n",
       "      <td>{\"Normal_frame\": false}</td>\n",
       "      <td>NaN</td>\n",
       "      <td>{\"Normal_frame\": false}</td>\n",
       "      <td>{\"WindSpeed (m/s)\": 5, \"DroneSpeed (m/s)\": 8, ...</td>\n",
       "      <td>[{\"name\": \"tree 1\", \"ID_obj\": 1.0, \"Type\": \"Tr...</td>\n",
       "      <td>input: {'status': [{'WindSpeed (m/s)': 0, 'Dro...</td>\n",
       "    </tr>\n",
       "    <tr>\n",
       "      <th>478</th>\n",
       "      <td>210</td>\n",
       "      <td>https://drive.google.com/file/d/1fZyKgFzTHBPMo...</td>\n",
       "      <td>Risk of physical damage! The drone has an empt...</td>\n",
       "      <td>The drone has only 10% battery and is 4895m aw...</td>\n",
       "      <td>{\"Distance_from_remote_control (m)\": 4895, \"Ba...</td>\n",
       "      <td>{\"time_stamp\": \"0:06\", \"name\": \"tree 1\", \"Dist...</td>\n",
       "      <td>{\"Distance_from_remote_control (m)\": 4895, \"Ba...</td>\n",
       "      <td>{\"WindSpeed (m/s)\": 10, \"DroneSpeed (m/s)\": 12...</td>\n",
       "      <td>[{\"name\": \"tree 1\", \"ID_obj\": 1, \"Type\": \"Tree...</td>\n",
       "      <td>input: {'status': [{'WindSpeed (m/s)': 0, 'Dro...</td>\n",
       "    </tr>\n",
       "    <tr>\n",
       "      <th>479</th>\n",
       "      <td>135</td>\n",
       "      <td>https://drive.google.com/file/d/1nzOIhI4fdvnNL...</td>\n",
       "      <td>Risk of physical damage and lost connection! T...</td>\n",
       "      <td>The drone has only 20% battery and is 4490m aw...</td>\n",
       "      <td>{\"Distance_from_remote_control (m)\": 4490, \"Ba...</td>\n",
       "      <td>{\"time_stamp\": \"0:01\", \"name\": \"storehouse\", \"...</td>\n",
       "      <td>{\"Distance_from_remote_control (m)\": 4490, \"Ba...</td>\n",
       "      <td>{\"WindSpeed (m/s)\": 18, \"DroneSpeed (m/s)\": 14...</td>\n",
       "      <td>[{\"name\": \"storehouse\", \"ID_obj\": 1.0, \"Type\":...</td>\n",
       "      <td>input: {'status': [{'WindSpeed (m/s)': 0, 'Dro...</td>\n",
       "    </tr>\n",
       "  </tbody>\n",
       "</table>\n",
       "<p>464 rows × 10 columns</p>\n",
       "</div>"
      ],
      "text/plain": [
       "     Unnamed: 0                                               link  \\\n",
       "0           522  https://drive.google.com/file/d/1i1wLRDvCMjMi2...   \n",
       "1           242  https://drive.google.com/file/d/1tIS5UEh-10N-n...   \n",
       "2            59  https://drive.google.com/file/d/1lT5SbBlJmbX4S...   \n",
       "3           593  https://drive.google.com/file/d/11uw7RK2ZdRP7P...   \n",
       "4           431  https://drive.google.com/file/d/1AhEBbxeplwqk7...   \n",
       "..          ...                                                ...   \n",
       "475          87  https://drive.google.com/file/d/1Kd5BwImJ4mzDb...   \n",
       "476         424  https://drive.google.com/file/d/193jyGP_awcQ4P...   \n",
       "477         544  https://drive.google.com/file/d/1jbD1EUHoELfuv...   \n",
       "478         210  https://drive.google.com/file/d/1fZyKgFzTHBPMo...   \n",
       "479         135  https://drive.google.com/file/d/1nzOIhI4fdvnNL...   \n",
       "\n",
       "                                               summary  \\\n",
       "0    Risk of physical damage! The drone has a damag...   \n",
       "1    Risk of physical damage! The drone has an empt...   \n",
       "2    (00:00) Risk of physical damage! The drone is ...   \n",
       "3    Risk of physical and internal damage! The dron...   \n",
       "4    Risk of physical damage! The drone is flying w...   \n",
       "..                                                 ...   \n",
       "475  Risk of internal damage! The weather is overca...   \n",
       "476  Risk of physical damage! The drone has an empt...   \n",
       "477  Risk of physical damage! The drone has a damag...   \n",
       "478  Risk of physical damage! The drone has an empt...   \n",
       "479  Risk of physical damage and lost connection! T...   \n",
       "\n",
       "                                             templates  \\\n",
       "0            The drone is flying with a damaged frame.   \n",
       "1    The flying drone is runing out of battery with...   \n",
       "2    (0:00) The drone is facing the risk of physica...   \n",
       "3    The drone is flying with a damaged frame.The d...   \n",
       "4    The flying drone is runing out of battery with...   \n",
       "..                                                 ...   \n",
       "475  The drone is facing a risk of internal damage ...   \n",
       "476  The flying drone is runing out of battery with...   \n",
       "477          The drone is flying with a damaged frame.   \n",
       "478  The drone has only 10% battery and is 4895m aw...   \n",
       "479  The drone has only 20% battery and is 4490m aw...   \n",
       "\n",
       "                                        related_status  \\\n",
       "0                              {\"Normal_frame\": false}   \n",
       "1                                {\"Battery_level\": 10}   \n",
       "2                                                  NaN   \n",
       "3    {\"Normal_frame\": false}{\"waterproof drone?\": f...   \n",
       "4    {\"Battery_level\": 20}{\"Normal_frame\": false}{\"...   \n",
       "..                                                 ...   \n",
       "475  {\"waterproof drone?\": false, \"weather\": \"gloomy\"}   \n",
       "476                               {\"Battery_level\": 0}   \n",
       "477                            {\"Normal_frame\": false}   \n",
       "478  {\"Distance_from_remote_control (m)\": 4895, \"Ba...   \n",
       "479  {\"Distance_from_remote_control (m)\": 4490, \"Ba...   \n",
       "\n",
       "                                      related_timestep  \\\n",
       "0                                                  NaN   \n",
       "1    {\"time_stamp\": \"0:00\", \"name\": \"tube\", \"Distan...   \n",
       "2    {\"time_stamp\": \"0:00\", \"name\": \"Bird1\", \"Dista...   \n",
       "3    {\"time_stamp\": \"0:09\", \"name\": \"steel arche of...   \n",
       "4    {\"time_stamp\": \"0:02\", \"name\": \"yellow tape\", ...   \n",
       "..                                                 ...   \n",
       "475                                                NaN   \n",
       "476  {\"time_stamp\": \"0:04\", \"name\": \"building 1\", \"...   \n",
       "477                                                NaN   \n",
       "478  {\"time_stamp\": \"0:06\", \"name\": \"tree 1\", \"Dist...   \n",
       "479  {\"time_stamp\": \"0:01\", \"name\": \"storehouse\", \"...   \n",
       "\n",
       "                                   related_sensor_data  \\\n",
       "0                              {\"Normal_frame\": false}   \n",
       "1    {\"Battery_level\": 10}{\"time_stamp\": \"0:00\", \"n...   \n",
       "2    {\"time_stamp\": \"0:00\", \"name\": \"Bird1\", \"Dista...   \n",
       "3    {\"Normal_frame\": false}{\"waterproof drone?\": f...   \n",
       "4    {\"Battery_level\": 20}{\"Normal_frame\": false}{\"...   \n",
       "..                                                 ...   \n",
       "475  {\"waterproof drone?\": false, \"weather\": \"gloomy\"}   \n",
       "476  {\"Battery_level\": 0}{\"time_stamp\": \"0:04\", \"na...   \n",
       "477                            {\"Normal_frame\": false}   \n",
       "478  {\"Distance_from_remote_control (m)\": 4895, \"Ba...   \n",
       "479  {\"Distance_from_remote_control (m)\": 4490, \"Ba...   \n",
       "\n",
       "                                                status  \\\n",
       "0    {\"WindSpeed (m/s)\": 0, \"DroneSpeed (m/s)\": 5, ...   \n",
       "1    {\"WindSpeed (m/s)\": 0, \"DroneSpeed (m/s)\": 7, ...   \n",
       "2    {\"WindSpeed (m/s)\": 10, \"DroneSpeed (m/s)\": 20...   \n",
       "3    {\"WindSpeed (m/s)\": 15, \"DroneSpeed (m/s)\": 10...   \n",
       "4    {\"WindSpeed (m/s)\": 0, \"DroneSpeed (m/s)\": 10,...   \n",
       "..                                                 ...   \n",
       "475  {\"WindSpeed (m/s)\": 1, \"DroneSpeed (m/s)\": 0, ...   \n",
       "476  {\"WindSpeed (m/s)\": 0, \"DroneSpeed (m/s)\": 7, ...   \n",
       "477  {\"WindSpeed (m/s)\": 5, \"DroneSpeed (m/s)\": 8, ...   \n",
       "478  {\"WindSpeed (m/s)\": 10, \"DroneSpeed (m/s)\": 12...   \n",
       "479  {\"WindSpeed (m/s)\": 18, \"DroneSpeed (m/s)\": 14...   \n",
       "\n",
       "                                              timestep  \\\n",
       "0    [{\"name\": \"flat hause\", \"ID_obj\": 1.0, \"Type\":...   \n",
       "1    [{\"name\": \"tube\", \"ID_obj\": 1, \"Type\": \"Object...   \n",
       "2    [{\"name\": \"Bird1\", \"ID_obj\": 1.0, \"Type\": \"Bir...   \n",
       "3    [{\"name\": \"steel arche of the bridge\", \"ID_obj...   \n",
       "4    [{\"name\": \"tree 1\", \"ID_obj\": 1.0, \"Type\": \"Tr...   \n",
       "..                                                 ...   \n",
       "475  [{\"name\": \"Bird1\", \"ID_obj\": 1.0, \"Type\": \"Bir...   \n",
       "476  [{\"name\": \"building 1\", \"ID_obj\": 1.0, \"Type\":...   \n",
       "477  [{\"name\": \"tree 1\", \"ID_obj\": 1.0, \"Type\": \"Tr...   \n",
       "478  [{\"name\": \"tree 1\", \"ID_obj\": 1, \"Type\": \"Tree...   \n",
       "479  [{\"name\": \"storehouse\", \"ID_obj\": 1.0, \"Type\":...   \n",
       "\n",
       "                                                source  \n",
       "0    input: {'status': [{'WindSpeed (m/s)': 0, 'Dro...  \n",
       "1    input: {'status': [{'WindSpeed (m/s)': 0, 'Dro...  \n",
       "2    input: {'status': [{'WindSpeed (m/s)': 0, 'Dro...  \n",
       "3    input: {'status': [{'WindSpeed (m/s)': 0, 'Dro...  \n",
       "4    input: {'status': [{'WindSpeed (m/s)': 0, 'Dro...  \n",
       "..                                                 ...  \n",
       "475  input: {'status': [{'WindSpeed (m/s)': 0, 'Dro...  \n",
       "476  input: {'status': [{'WindSpeed (m/s)': 0, 'Dro...  \n",
       "477  input: {'status': [{'WindSpeed (m/s)': 0, 'Dro...  \n",
       "478  input: {'status': [{'WindSpeed (m/s)': 0, 'Dro...  \n",
       "479  input: {'status': [{'WindSpeed (m/s)': 0, 'Dro...  \n",
       "\n",
       "[464 rows x 10 columns]"
      ]
     },
     "execution_count": 80,
     "metadata": {},
     "output_type": "execute_result"
    }
   ],
   "source": [
    "train_set"
   ]
  },
  {
   "cell_type": "code",
   "execution_count": 82,
   "id": "d10ca497-66e9-473e-bb7b-37488fad770f",
   "metadata": {},
   "outputs": [
    {
     "data": {
      "text/plain": [
       "Unnamed: 0                                                           242\n",
       "link                   https://drive.google.com/file/d/1tIS5UEh-10N-n...\n",
       "summary                Risk of physical damage! The drone has an empt...\n",
       "templates              The flying drone is runing out of battery with...\n",
       "related_status                                     {\"Battery_level\": 10}\n",
       "related_timestep       {\"time_stamp\": \"0:00\", \"name\": \"tube\", \"Distan...\n",
       "related_sensor_data    {\"Battery_level\": 10}{\"time_stamp\": \"0:00\", \"n...\n",
       "status                 {\"WindSpeed (m/s)\": 0, \"DroneSpeed (m/s)\": 7, ...\n",
       "timestep               [{\"name\": \"tube\", \"ID_obj\": 1, \"Type\": \"Object...\n",
       "source                 input: {'status': [{'WindSpeed (m/s)': 0, 'Dro...\n",
       "Name: 1, dtype: object"
      ]
     },
     "execution_count": 82,
     "metadata": {},
     "output_type": "execute_result"
    }
   ],
   "source": [
    "train_set.loc[1]"
   ]
  },
  {
   "cell_type": "code",
   "execution_count": 83,
   "id": "5f9de7e4-ea65-4148-8920-f8a4def040d2",
   "metadata": {},
   "outputs": [],
   "source": [
    "one_shot_source=\"{'status': [{'WindSpeed (m/s)': 0, 'DroneSpeed (m/s)': 5, 'PilotExperienced': True, 'Altitude (m)': 8, 'Temperature (celcius)': 12, 'Distance_from_remote_control (m)': 848, 'Battery_level': 80, 'Low_visibility': False, 'Normal_frame': False, 'weather': 'sunny', 'upside_down': True, 'good_motor_condition': False, 'going_backwards': False, 'indoor': False, 'waterproof drone?': False, 'flying over': 'ground', 'criticality': 'advisory', 'RiskOfPhysicalDamage': 'warning', 'RiskOfInternalDamage': False, 'RiskOfHumanDamage': False, 'LostConnection': False}], 'timestep': [{'name': 'flat hause', 'ID_obj': 1.0, 'Type': 'Building', 'Moving': False, 'InPath': False, 'Distance': 5.0, 'time_stamp': '0:02'}, {'name': 'tree 1', 'ID_obj': 2.0, 'Type': 'Tree', 'Moving': False, 'InPath': False, 'Distance': 2.0, 'time_stamp': '0:05'}]}\"\n",
    "one_shot_summary=\"Risk of physical damage! The drone has a damaged frame. [SEP]\\n(0:05) Risk of physical damage! There's a tree only 2m away. [SEP]\""
   ]
  },
  {
   "cell_type": "code",
   "execution_count": 91,
   "id": "35404516-6a9d-420d-a04f-5ac080909cd2",
   "metadata": {},
   "outputs": [
    {
     "data": {
      "text/plain": [
       "110    input: {'status': [{'WindSpeed (m/s)': 0, 'DroneSpeed (m/s)': 5, 'PilotExperienced': True, 'Altitude (m)': 8, 'Temperature (celcius)': 12, 'Distance_from_remote_control (m)': 848, 'Battery_level': 80, 'Low_visibility': False, 'Normal_frame': False, 'weather': 'sunny', 'upside_down': True, 'good_motor_condition': False, 'going_backwards': False, 'indoor': False, 'waterproof drone?': False, 'flying over': 'ground', 'criticality': 'advisory', 'RiskOfPhysicalDamage': 'warning', 'RiskOfInternalDamage': False, 'RiskOfHumanDamage': False, 'LostConnection': False}], 'timestep': [{'name': 'flat hause', 'ID_obj': 1.0, 'Type': 'Building', 'Moving': False, 'InPath': False, 'Distance': 5.0, 'time_stamp': '0:02'}, {'name': 'tree 1', 'ID_obj': 2.0, 'Type': 'Tree', 'Moving': False, 'InPath': False, 'Distance': 2.0, 'time_stamp': '0:05'}]}, output: Risk of physical damage! The drone has a damaged frame. [SEP]\\n(0:05) Risk of physical damage! There's a tree only 2m away. [SEP]\\n input:{'status': [{'WindSpeed (m/s)': 0, 'DroneSpeed (m/s)': 10, 'PilotExperienced': True, 'Altitude (m)': 1, 'Temperature (celcius)': 9, 'Distance_from_remote_control (m)': 1843, 'Battery_level': 40, 'Low_visibility': False, 'Normal_frame': True, 'weather': 'gloomy', 'upside_down': True, 'good_motor_condition': False, 'going_backwards': False, 'indoor': False, 'waterproof drone?': True, 'flying over': 'ground', 'criticality': 'informative', 'RiskOfPhysicalDamage': 'advisory', 'RiskOfInternalDamage': False, 'RiskOfHumanDamage': False, 'LostConnection': False}], 'timestep': [{'name': 'tree 1', 'ID_obj': 1.0, 'Type': 'Tree', 'Moving': False, 'InPath': True, 'Distance': 5.0, 'time_stamp': '0:03'}, {'name': 'tree 1', 'ID_obj': 1.0, 'Type': 'Tree', 'Moving': False, 'InPath': True, 'Distance': 1.0, 'time_stamp': '0:05'}, {'name': 'tree 1', 'ID_obj': 1.0, 'Type': 'Tree', 'Moving': False, 'InPath': False, 'Distance': 2.0, 'time_stamp': '0:06'}, {'name': 'tree 2', 'ID_obj': 2.0, 'Type': 'Tree', 'Moving': False, 'InPath': True, 'Distance': 10.0, 'time_stamp': '0:08'}, {'name': 'tree 3', 'ID_obj': 3.0, 'Type': 'Tree', 'Moving': False, 'InPath': False, 'Distance': 8.0, 'time_stamp': '0:11'}, {'name': 'tree 4', 'ID_obj': 4.0, 'Type': 'Tree', 'Moving': False, 'InPath': True, 'Distance': 7.0, 'time_stamp': '0:14'}, {'name': 'tree 4', 'ID_obj': 4.0, 'Type': 'Tree', 'Moving': False, 'InPath': False, 'Distance': 1.0, 'time_stamp': '0:16'}]}, output:\n",
       "302    input: {'status': [{'WindSpeed (m/s)': 0, 'DroneSpeed (m/s)': 5, 'PilotExperienced': True, 'Altitude (m)': 8, 'Temperature (celcius)': 12, 'Distance_from_remote_control (m)': 848, 'Battery_level': 80, 'Low_visibility': False, 'Normal_frame': False, 'weather': 'sunny', 'upside_down': True, 'good_motor_condition': False, 'going_backwards': False, 'indoor': False, 'waterproof drone?': False, 'flying over': 'ground', 'criticality': 'advisory', 'RiskOfPhysicalDamage': 'warning', 'RiskOfInternalDamage': False, 'RiskOfHumanDamage': False, 'LostConnection': False}], 'timestep': [{'name': 'flat hause', 'ID_obj': 1.0, 'Type': 'Building', 'Moving': False, 'InPath': False, 'Distance': 5.0, 'time_stamp': '0:02'}, {'name': 'tree 1', 'ID_obj': 2.0, 'Type': 'Tree', 'Moving': False, 'InPath': False, 'Distance': 2.0, 'time_stamp': '0:05'}]}, output: Risk of physical damage! The drone has a damaged frame. [SEP]\\n(0:05) Risk of physical damage! There's a tree only 2m away. [SEP]\\n input:{'status': [{'WindSpeed (m/s)': 0, 'DroneSpeed (m/s)': 10, 'PilotExperienced': True, 'Altitude (m)': 1, 'Temperature (celcius)': 9, 'Distance_from_remote_control (m)': 1843, 'Battery_level': 40, 'Low_visibility': False, 'Normal_frame': True, 'weather': 'gloomy', 'upside_down': True, 'good_motor_condition': False, 'going_backwards': False, 'indoor': False, 'waterproof drone?': True, 'flying over': 'ground', 'criticality': 'informative', 'RiskOfPhysicalDamage': 'advisory', 'RiskOfInternalDamage': False, 'RiskOfHumanDamage': False, 'LostConnection': False}], 'timestep': [{'name': 'tree 1', 'ID_obj': 1.0, 'Type': 'Tree', 'Moving': False, 'InPath': True, 'Distance': 5.0, 'time_stamp': '0:03'}, {'name': 'tree 1', 'ID_obj': 1.0, 'Type': 'Tree', 'Moving': False, 'InPath': True, 'Distance': 1.0, 'time_stamp': '0:05'}, {'name': 'tree 1', 'ID_obj': 1.0, 'Type': 'Tree', 'Moving': False, 'InPath': False, 'Distance': 2.0, 'time_stamp': '0:06'}, {'name': 'tree 2', 'ID_obj': 2.0, 'Type': 'Tree', 'Moving': False, 'InPath': True, 'Distance': 10.0, 'time_stamp': '0:08'}, {'name': 'tree 3', 'ID_obj': 3.0, 'Type': 'Tree', 'Moving': False, 'InPath': False, 'Distance': 8.0, 'time_stamp': '0:11'}, {'name': 'tree 4', 'ID_obj': 4.0, 'Type': 'Tree', 'Moving': False, 'InPath': True, 'Distance': 7.0, 'time_stamp': '0:14'}, {'name': 'tree 4', 'ID_obj': 4.0, 'Type': 'Tree', 'Moving': False, 'InPath': False, 'Distance': 1.0, 'time_stamp': '0:16'}]}, output:\n",
       "Name: source, dtype: object"
      ]
     },
     "execution_count": 91,
     "metadata": {},
     "output_type": "execute_result"
    }
   ],
   "source": [
    "pd.set_option('display.max_rows', None)\n",
    "pd.options.display.max_colwidth = 10000\n",
    "train_set.loc[train_set['link']=='https://drive.google.com/file/d/1_iqwxrNaYtlcvWkYecEPWoGzoEuX77cd/view?usp=sharing']['source']\n"
   ]
  },
  {
   "cell_type": "code",
   "execution_count": 92,
   "id": "d275ae38-6ae5-4607-81ff-95c7ef7dc6ea",
   "metadata": {},
   "outputs": [
    {
     "data": {
      "text/plain": [
       "110    Risk of physical damage! The drone's battery is low. It's flying at a 1m altitude in low temperatures. [SEP]\\n(0:03) Risk of physical damage! The drone is flying toward a tree in its path 5m ahead. [SEP]\\n(0:05) Risk of physical damage! Now that tree in the drone's path is 1m away. [SEP]\\n(0:06) Risk of physical damage! The tree that was in the drone's path is now next to the drone, 2m away. [SEP]\\n(0:14) Risk of physical damage! There's another tree up ahead in the drone's path, 7m away.[SEP]\\n(0:16) Risk of physical damage! Now the drone is flying next to and 1m from that tree. [SEP]\n",
       "302                         Risk of physical damage! The drone has low battery. It’s flying at an altitude of 1m in a low-temperature setting. [SEP]\\n(0:03) Risk of physical damage! There's a tree in the drone's flight path at a distance of 5m. [SEP]\\n(0:05) Risk of physical damage! Now the tree is in the drone's flight path at a distance of 1m. [SEP]\\n(0:06) Risk of physical damage! Now the tree is only 2m away. [SEP]\\n(0:14) Risk of physical damage! There's another tree in the drone's flight path at a distance of 7m. [SEP]\\n(0:16) Risk of physical damage! Now the tree is only 1m away. [SEP]\n",
       "Name: summary, dtype: object"
      ]
     },
     "execution_count": 92,
     "metadata": {},
     "output_type": "execute_result"
    }
   ],
   "source": [
    "train_set.loc[train_set['link']=='https://drive.google.com/file/d/1_iqwxrNaYtlcvWkYecEPWoGzoEuX77cd/view?usp=sharing']['summary']"
   ]
  },
  {
   "cell_type": "code",
   "execution_count": null,
   "id": "29e7e77e-a9ac-4941-aabe-248d5fa2c90d",
   "metadata": {},
   "outputs": [],
   "source": [
    "tokenizer = AutoTokenizer.from_pretrained(\"t5-base\")\n",
    "oneshot_prefix_tokens=tokenizer.encode(oneshot_example_prefix)\n"
   ]
  }
 ],
 "metadata": {
  "kernelspec": {
   "display_name": "Python 3",
   "language": "python",
   "name": "python3"
  },
  "language_info": {
   "codemirror_mode": {
    "name": "ipython",
    "version": 3
   },
   "file_extension": ".py",
   "mimetype": "text/x-python",
   "name": "python",
   "nbconvert_exporter": "python",
   "pygments_lexer": "ipython3",
   "version": "3.8.5"
  }
 },
 "nbformat": 4,
 "nbformat_minor": 5
}
